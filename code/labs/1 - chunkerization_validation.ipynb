{
 "cells": [
  {
   "cell_type": "markdown",
   "metadata": {},
   "source": [
    "# Chunkerization"
   ]
  },
  {
   "cell_type": "code",
   "execution_count": 3,
   "metadata": {},
   "outputs": [],
   "source": [
    "from langchain_text_splitters import CharacterTextSplitter, RecursiveCharacterTextSplitter\n",
    "import pickle\n",
    "from langchain.document_loaders import PyPDFLoader"
   ]
  },
  {
   "cell_type": "code",
   "execution_count": 4,
   "metadata": {},
   "outputs": [],
   "source": [
    "loader = PyPDFLoader(\"../data/Constitución Española/Constitución española.pdf\")\n",
    "documents = loader.load()\n",
    "for document in documents:\n",
    "    document.metadata['filename'] = document.metadata['source']\n",
    "\n",
    "path = \"../data/Constitución Española/\"\n",
    "chunk_path = path + \"chunks/\""
   ]
  },
  {
   "cell_type": "markdown",
   "metadata": {},
   "source": [
    "### 1. CharacterSplitter"
   ]
  },
  {
   "cell_type": "code",
   "execution_count": 29,
   "metadata": {},
   "outputs": [],
   "source": [
    "chunk_sizes = [200, 300, 400]\n",
    "\n",
    "for i in chunk_sizes:\n",
    "    text_splitter = CharacterTextSplitter(\n",
    "        chunk_size=i,\n",
    "        chunk_overlap=i/10,\n",
    "        length_function=len,\n",
    "        separator = '',\n",
    "        is_separator_regex=False\n",
    "    )\n",
    "\n",
    "    texts = text_splitter.split_documents(documents)\n",
    "\n",
    "    # Define the file path\n",
    "    file_path = chunk_path + f\"documents_charactersplitter_{i}.pkl\"\n",
    "\n",
    "    # Save the texts variable to a file\n",
    "    with open(file_path, \"wb\") as file:\n",
    "        pickle.dump(texts, file)\n"
   ]
  },
  {
   "cell_type": "code",
   "execution_count": 21,
   "metadata": {},
   "outputs": [],
   "source": [
    "splitters = {}\n",
    "chunk_sizes = [200, 300, 400]\n",
    "for i in chunk_sizes:\n",
    "    # Define the file path\n",
    "    file_path = chunk_path + f\"documents_charactersplitter_{i}.pkl\"\n",
    "\n",
    "    # Load the texts from the pickle file\n",
    "    with open(file_path, \"rb\") as file:\n",
    "        splitters[f\"charactersplitter_{i}\"] = pickle.load(file)"
   ]
  },
  {
   "cell_type": "markdown",
   "metadata": {},
   "source": [
    "### 2. RecursiveCharacterSplitter"
   ]
  },
  {
   "cell_type": "code",
   "execution_count": 47,
   "metadata": {},
   "outputs": [],
   "source": [
    "chunk_sizes = [200, 300, 400]\n",
    "\n",
    "for i in chunk_sizes:\n",
    "    text_splitter = RecursiveCharacterTextSplitter(\n",
    "        chunk_size=i,\n",
    "        chunk_overlap=i/10,\n",
    "        length_function=len,\n",
    "        is_separator_regex=False\n",
    "    )\n",
    "\n",
    "    texts = text_splitter.split_documents(documents)\n",
    "\n",
    "    # Define the file path\n",
    "    file_path = chunk_path + f\"documents_recursivecharactersplitter_{i}.pkl\"\n",
    "\n",
    "    # Save the texts variable to a file\n",
    "    with open(file_path, \"wb\") as file:\n",
    "        pickle.dump(texts, file)"
   ]
  },
  {
   "cell_type": "code",
   "execution_count": 22,
   "metadata": {},
   "outputs": [],
   "source": [
    "for i in chunk_sizes:\n",
    "    # Define the file path\n",
    "    file_path = chunk_path + f\"documents_recursivecharactersplitter_{i}.pkl\"\n",
    "\n",
    "    # Load the texts from the pickle file\n",
    "    with open(file_path, \"rb\") as file:\n",
    "        splitters[f\"recursivecharactersplitter_{i}\"] = pickle.load(file)"
   ]
  },
  {
   "cell_type": "markdown",
   "metadata": {},
   "source": [
    "### 3. SpanishArticleSplitter"
   ]
  },
  {
   "cell_type": "code",
   "execution_count": 30,
   "metadata": {
    "metadata": {}
   },
   "outputs": [],
   "source": [
    "from bs4 import BeautifulSoup\n",
    "import re\n",
    "from langchain.docstore.document import Document\n",
    "\n",
    "class SpanishArticleSplitter():\n",
    "    def create_documents_from_html(self, file_path):\n",
    "        with open(file_path, 'r', encoding='utf-8') as file:\n",
    "            html_content = file.read()\n",
    "        soup = BeautifulSoup(html_content, 'html.parser')\n",
    "        documents = []\n",
    "        articles = [h5.find_parent('div') for h5 in soup.find_all('h5', class_='articulo')]\n",
    "        for a in articles:\n",
    "            article_name = a.find('h5').text\n",
    "            ptexts = [p.text if 'Bloque' not in p.text else '' for p in a.find_all('p')]\n",
    "            article_text = '\\n'.join(ptexts).replace('\\n\\n', '\\n')[1:]\n",
    "            metadata={}\n",
    "            metadata['article_name'] = article_name\n",
    "            metadata['filename'] = file_path\n",
    "            metadata['source'] = file_path\n",
    "            doc = Document(page_content=article_text, metadata=metadata)\n",
    "            documents.append(doc)\n",
    "        return documents"
   ]
  },
  {
   "cell_type": "code",
   "execution_count": 31,
   "metadata": {
    "metadata": {}
   },
   "outputs": [],
   "source": [
    "file_path = \"../data/Constitución Española/BOE-A-1978-31229 Constitución Española.html\"\n",
    "splitter = SpanishArticleSplitter()\n",
    "texts = splitter.create_documents_from_html(file_path)\n",
    "\n",
    "# Define the file path\n",
    "file_path = chunk_path + f\"documents_spanisharticlesplitter.pkl\"\n",
    "\n",
    "# Save the texts variable to a file\n",
    "with open(file_path, \"wb\") as file:\n",
    "    pickle.dump(texts, file)"
   ]
  },
  {
   "cell_type": "code",
   "execution_count": 32,
   "metadata": {},
   "outputs": [],
   "source": [
    "# Define the file path\n",
    "file_path = chunk_path + f\"documents_spanisharticlesplitter.pkl\"\n",
    "\n",
    "# Load the texts from the pickle file\n",
    "with open(file_path, \"rb\") as file:\n",
    "    splitters[f\"spanisharticlesplitter\"] = pickle.load(file)"
   ]
  }
 ],
 "metadata": {
  "kernelspec": {
   "display_name": ".venv",
   "language": "python",
   "name": "python3"
  },
  "language_info": {
   "codemirror_mode": {
    "name": "ipython",
    "version": 3
   },
   "file_extension": ".py",
   "mimetype": "text/x-python",
   "name": "python",
   "nbconvert_exporter": "python",
   "pygments_lexer": "ipython3",
   "version": "3.11.8"
  }
 },
 "nbformat": 4,
 "nbformat_minor": 2
}
