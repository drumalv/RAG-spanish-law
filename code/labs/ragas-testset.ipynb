{
 "cells": [
  {
   "cell_type": "code",
   "execution_count": 1,
   "metadata": {},
   "outputs": [
    {
     "data": {
      "text/plain": [
       "True"
      ]
     },
     "execution_count": 1,
     "metadata": {},
     "output_type": "execute_result"
    }
   ],
   "source": [
    "from dotenv import load_dotenv\n",
    "import os\n",
    "\n",
    "load_dotenv()"
   ]
  },
  {
   "cell_type": "code",
   "execution_count": 2,
   "metadata": {},
   "outputs": [],
   "source": [
    "from langchain.document_loaders import PyPDFLoader\n",
    "loader = PyPDFLoader(\"../data/Constitución Española/Constitución española.pdf\")\n",
    "documents = loader.load()\n",
    "for document in documents:\n",
    "    document.metadata['filename'] = document.metadata['source']"
   ]
  },
  {
   "cell_type": "code",
   "execution_count": 3,
   "metadata": {},
   "outputs": [],
   "source": [
    "from langchain_text_splitters import RecursiveCharacterTextSplitter\n",
    "\n",
    "text_splitter = RecursiveCharacterTextSplitter(\n",
    "    chunk_size=450,\n",
    "    chunk_overlap=50,\n",
    "    length_function=len,\n",
    "    is_separator_regex=False,\n",
    ")\n",
    "\n",
    "texts = text_splitter.split_documents(documents)"
   ]
  },
  {
   "cell_type": "code",
   "execution_count": 4,
   "metadata": {},
   "outputs": [
    {
     "name": "stderr",
     "output_type": "stream",
     "text": [
      "/home/alvaro/TFM/code/.venv/lib/python3.11/site-packages/tqdm/auto.py:21: TqdmWarning: IProgress not found. Please update jupyter and ipywidgets. See https://ipywidgets.readthedocs.io/en/stable/user_install.html\n",
      "  from .autonotebook import tqdm as notebook_tqdm\n"
     ]
    }
   ],
   "source": [
    "from ragas.testset.generator import TestsetGenerator\n",
    "from ragas.testset.evolutions import simple, reasoning, multi_context\n",
    "from langchain_openai import AzureChatOpenAI, AzureOpenAIEmbeddings\n",
    "\n",
    "generator_llm = AzureChatOpenAI(\n",
    "    openai_api_version=os.environ[\"OPENAI_API_VERSION\"],\n",
    "    azure_deployment=os.environ[\"AZURE_GPT3TURBO_DEPLOYMENT\"],\n",
    ")\n",
    "critic_llm = AzureChatOpenAI(\n",
    "    openai_api_version=os.environ[\"OPENAI_API_VERSION\"],\n",
    "    azure_deployment=os.environ[\"AZURE_GPT4TURBO_DEPLOYMENT\"],\n",
    ")\n",
    "embeddings = AzureOpenAIEmbeddings(\n",
    "    azure_deployment=os.environ[\"AZURE_ADA2_DEPLOYMENT\"],\n",
    "    openai_api_version=os.environ[\"OPENAI_API_VERSION\"],\n",
    ")\n",
    "\n",
    "generator = TestsetGenerator.from_langchain(\n",
    "    generator_llm,\n",
    "    critic_llm,\n",
    "    embeddings\n",
    ")"
   ]
  },
  {
   "cell_type": "code",
   "execution_count": 5,
   "metadata": {},
   "outputs": [
    {
     "name": "stderr",
     "output_type": "stream",
     "text": [
      "Generating: 100%|██████████| 20/20 [07:50<00:00, 23.51s/it]       \n"
     ]
    }
   ],
   "source": [
    "testset = generator.generate_with_langchain_docs(documents, test_size=20, distributions={simple: 0.5, reasoning: 0.25, multi_context: 0.25})"
   ]
  },
  {
   "cell_type": "code",
   "execution_count": 6,
   "metadata": {},
   "outputs": [],
   "source": [
    "df = testset.to_pandas()"
   ]
  },
  {
   "cell_type": "code",
   "execution_count": 7,
   "metadata": {},
   "outputs": [
    {
     "data": {
      "text/html": [
       "<div>\n",
       "<style scoped>\n",
       "    .dataframe tbody tr th:only-of-type {\n",
       "        vertical-align: middle;\n",
       "    }\n",
       "\n",
       "    .dataframe tbody tr th {\n",
       "        vertical-align: top;\n",
       "    }\n",
       "\n",
       "    .dataframe thead th {\n",
       "        text-align: right;\n",
       "    }\n",
       "</style>\n",
       "<table border=\"1\" class=\"dataframe\">\n",
       "  <thead>\n",
       "    <tr style=\"text-align: right;\">\n",
       "      <th></th>\n",
       "      <th>question</th>\n",
       "      <th>contexts</th>\n",
       "      <th>ground_truth</th>\n",
       "      <th>evolution_type</th>\n",
       "      <th>metadata</th>\n",
       "      <th>episode_done</th>\n",
       "    </tr>\n",
       "  </thead>\n",
       "  <tbody>\n",
       "    <tr>\n",
       "      <th>0</th>\n",
       "      <td>What is the role of the Presidente del Gobiern...</td>\n",
       "      <td>[Artículo 94.  \\n1. La prestación del consenti...</td>\n",
       "      <td>The Presidente del Gobierno in the Spanish gov...</td>\n",
       "      <td>simple</td>\n",
       "      <td>[{'source': '../data/Constitución Española/Con...</td>\n",
       "      <td>True</td>\n",
       "    </tr>\n",
       "    <tr>\n",
       "      <th>1</th>\n",
       "      <td>What does the principle of solidarity guarante...</td>\n",
       "      <td>[El Tribunal de Cuentas, sin perjuicio de su p...</td>\n",
       "      <td>The State guarantees the effective realization...</td>\n",
       "      <td>simple</td>\n",
       "      <td>[{'source': '../data/Constitución Española/Con...</td>\n",
       "      <td>True</td>\n",
       "    </tr>\n",
       "    <tr>\n",
       "      <th>2</th>\n",
       "      <td>How do the powers of the state promote the mod...</td>\n",
       "      <td>[Artículo 129.  \\n1. La ley establecerá las fo...</td>\n",
       "      <td>The powers of the state promote the modernizat...</td>\n",
       "      <td>simple</td>\n",
       "      <td>[{'source': '../data/Constitución Española/Con...</td>\n",
       "      <td>True</td>\n",
       "    </tr>\n",
       "    <tr>\n",
       "      <th>3</th>\n",
       "      <td>What is the role of the Organización Territori...</td>\n",
       "      <td>[El Tribunal de Cuentas, sin perjuicio de su p...</td>\n",
       "      <td>The role of the Organización Territorial del E...</td>\n",
       "      <td>simple</td>\n",
       "      <td>[{'source': '../data/Constitución Española/Con...</td>\n",
       "      <td>True</td>\n",
       "    </tr>\n",
       "    <tr>\n",
       "      <th>4</th>\n",
       "      <td>What rights do Spanish citizens have regarding...</td>\n",
       "      <td>[Artículo 17.  \\n1. Toda persona tiene derecho...</td>\n",
       "      <td>Spanish citizens have the right to choose thei...</td>\n",
       "      <td>simple</td>\n",
       "      <td>[{'source': '../data/Constitución Española/Con...</td>\n",
       "      <td>True</td>\n",
       "    </tr>\n",
       "  </tbody>\n",
       "</table>\n",
       "</div>"
      ],
      "text/plain": [
       "                                            question  \\\n",
       "0  What is the role of the Presidente del Gobiern...   \n",
       "1  What does the principle of solidarity guarante...   \n",
       "2  How do the powers of the state promote the mod...   \n",
       "3  What is the role of the Organización Territori...   \n",
       "4  What rights do Spanish citizens have regarding...   \n",
       "\n",
       "                                            contexts  \\\n",
       "0  [Artículo 94.  \\n1. La prestación del consenti...   \n",
       "1  [El Tribunal de Cuentas, sin perjuicio de su p...   \n",
       "2  [Artículo 129.  \\n1. La ley establecerá las fo...   \n",
       "3  [El Tribunal de Cuentas, sin perjuicio de su p...   \n",
       "4  [Artículo 17.  \\n1. Toda persona tiene derecho...   \n",
       "\n",
       "                                        ground_truth evolution_type  \\\n",
       "0  The Presidente del Gobierno in the Spanish gov...         simple   \n",
       "1  The State guarantees the effective realization...         simple   \n",
       "2  The powers of the state promote the modernizat...         simple   \n",
       "3  The role of the Organización Territorial del E...         simple   \n",
       "4  Spanish citizens have the right to choose thei...         simple   \n",
       "\n",
       "                                            metadata  episode_done  \n",
       "0  [{'source': '../data/Constitución Española/Con...          True  \n",
       "1  [{'source': '../data/Constitución Española/Con...          True  \n",
       "2  [{'source': '../data/Constitución Española/Con...          True  \n",
       "3  [{'source': '../data/Constitución Española/Con...          True  \n",
       "4  [{'source': '../data/Constitución Española/Con...          True  "
      ]
     },
     "execution_count": 7,
     "metadata": {},
     "output_type": "execute_result"
    }
   ],
   "source": [
    "df.head()"
   ]
  },
  {
   "cell_type": "code",
   "execution_count": 8,
   "metadata": {},
   "outputs": [],
   "source": [
    "df.to_json('../data/Constitución Española/Constitución española_testset.json', orient='records')\n"
   ]
  }
 ],
 "metadata": {
  "kernelspec": {
   "display_name": ".venv",
   "language": "python",
   "name": "python3"
  },
  "language_info": {
   "codemirror_mode": {
    "name": "ipython",
    "version": 3
   },
   "file_extension": ".py",
   "mimetype": "text/x-python",
   "name": "python",
   "nbconvert_exporter": "python",
   "pygments_lexer": "ipython3",
   "version": "3.11.8"
  }
 },
 "nbformat": 4,
 "nbformat_minor": 2
}
