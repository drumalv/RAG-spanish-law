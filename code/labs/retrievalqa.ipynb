{
 "cells": [
  {
   "cell_type": "code",
   "execution_count": 1,
   "metadata": {},
   "outputs": [
    {
     "data": {
      "text/plain": [
       "True"
      ]
     },
     "execution_count": 1,
     "metadata": {},
     "output_type": "execute_result"
    }
   ],
   "source": [
    "from dotenv import load_dotenv\n",
    "import os\n",
    "\n",
    "load_dotenv()"
   ]
  },
  {
   "cell_type": "code",
   "execution_count": 3,
   "metadata": {},
   "outputs": [],
   "source": [
    "from langchain.document_loaders import PyPDFLoader\n",
    "loader = PyPDFLoader(\"../data/Constitución Española/Constitución española.pdf\")\n",
    "documents = loader.load()\n",
    "for document in documents:\n",
    "    document.metadata['filename'] = document.metadata['source']\n",
    "\n",
    "from langchain_text_splitters import RecursiveCharacterTextSplitter\n",
    "\n",
    "text_splitter = RecursiveCharacterTextSplitter(\n",
    "    chunk_size=450,\n",
    "    chunk_overlap=50,\n",
    "    length_function=len,\n",
    "    is_separator_regex=False,\n",
    ")\n",
    "\n",
    "texts = text_splitter.split_documents(documents)"
   ]
  },
  {
   "cell_type": "code",
   "execution_count": 5,
   "metadata": {},
   "outputs": [
    {
     "name": "stderr",
     "output_type": "stream",
     "text": [
      "/home/alvaro/TFM/code/.venv/lib/python3.11/site-packages/langchain_core/_api/deprecation.py:117: LangChainDeprecationWarning: The class `langchain_community.embeddings.azure_openai.AzureOpenAIEmbeddings` was deprecated in langchain-community 0.0.9 and will be removed in 0.2.0. An updated version of the class exists in the langchain-openai package and should be used instead. To use it run `pip install -U langchain-openai` and import as `from langchain_openai import AzureOpenAIEmbeddings`.\n",
      "  warn_deprecated(\n"
     ]
    }
   ],
   "source": [
    "from langchain.embeddings import AzureOpenAIEmbeddings\n",
    "from langchain.vectorstores import Chroma\n",
    "import os\n",
    "\n",
    "embedding_function = AzureOpenAIEmbeddings(\n",
    "    azure_deployment=os.environ[\"AZURE_ADA2_DEPLOYMENT\"],\n",
    "    openai_api_version=os.environ[\"OPENAI_API_VERSION\"],\n",
    ")\n",
    "\n",
    "# load docs into Chroma\n",
    "vector_db = Chroma.from_documents(texts, embedding_function, persist_directory='../vector_stores/chroma_openai_3_small')\n",
    "\n",
    "# Helpful to force a save\n",
    "vector_db.persist()\n",
    "\n",
    "# get db connection\n",
    "vector_db_connection = Chroma(persist_directory='../vector_stores/chroma_openai_3_small', embedding_function=embedding_function)"
   ]
  },
  {
   "cell_type": "code",
   "execution_count": 7,
   "metadata": {},
   "outputs": [],
   "source": [
    "retriever = vector_db_connection.as_retriever(search_kwargs={\"k\": 3})"
   ]
  },
  {
   "cell_type": "code",
   "execution_count": 8,
   "metadata": {},
   "outputs": [],
   "source": [
    "from langchain_openai import AzureChatOpenAI\n",
    "from langchain.chains import RetrievalQA\n",
    "\n",
    "# create a retrieval qa chain using llm\n",
    "llm = AzureChatOpenAI(\n",
    "    openai_api_version=os.environ[\"OPENAI_API_VERSION\"],\n",
    "    azure_deployment=os.environ[\"AZURE_GPT3TURBO_DEPLOYMENT\"],\n",
    ")\n",
    "qa = RetrievalQA.from_chain_type(llm=llm,\n",
    "                                 chain_type=\"stuff\",\n",
    "                                 retriever=retriever,\n",
    "                                 verbose=True)"
   ]
  },
  {
   "cell_type": "code",
   "execution_count": 9,
   "metadata": {},
   "outputs": [
    {
     "name": "stdout",
     "output_type": "stream",
     "text": [
      "\n",
      "\n",
      "\u001b[1m> Entering new RetrievalQA chain...\u001b[0m\n",
      "\n",
      "\u001b[1m> Finished chain.\u001b[0m\n"
     ]
    }
   ],
   "source": [
    "result = qa.invoke(\"How is the right to choose one's residence and to move freely within the national territory guaranteed in the Spanish Constitution?\")"
   ]
  },
  {
   "cell_type": "code",
   "execution_count": 10,
   "metadata": {},
   "outputs": [
    {
     "data": {
      "text/plain": [
       "{'query': \"How is the right to choose one's residence and to move freely within the national territory guaranteed in the Spanish Constitution?\",\n",
       " 'result': \"The right to choose one's residence and to move freely within the national territory is guaranteed in the Spanish Constitution through Article 19. This article states that Spanish citizens have the right to choose their residence freely and to move within the national territory. Additionally, they have the right to enter and leave Spain freely, as established by law. This right cannot be limited for political or ideological reasons. Furthermore, Article 139 asserts that all Spanish citizens have the same rights and obligations throughout the entire territory of the State. No authority can adopt measures that directly or indirectly hinder the freedom of movement and establishment of individuals and the free movement of goods throughout the Spanish territory.\"}"
      ]
     },
     "execution_count": 10,
     "metadata": {},
     "output_type": "execute_result"
    }
   ],
   "source": [
    "result"
   ]
  },
  {
   "cell_type": "code",
   "execution_count": 20,
   "metadata": {},
   "outputs": [
    {
     "data": {
      "text/plain": [
       "[Document(page_content='y familiar de los ciudadanos y el pleno ejercicio de sus derechos.\\nArtículo 19.  \\nLos españoles tienen derecho a elegir libremente su residencia y a circular por el \\nterritorio nacional.\\nAsimismo, tienen derecho a entrar y salir libremente de España en los términos que la \\nley establezca. Este derecho no podrá ser limitado por motivos políticos o ideológicos.\\nArtículo 20.  \\n1. Se reconocen y protegen los derechos:', metadata={'filename': '../data/Constitución Española/Constitución española 3-7.pdf', 'page': 3, 'source': '../data/Constitución Española/Constitución española 3-7.pdf'}),\n",
       " Document(page_content='Artículo 13.  \\n1. Los extranjeros gozarán en España de las libertades públicas que garantiza el \\npresente Título en los términos que establezcan los tratados y la ley.\\n2. Solamente los españoles serán titulares de los derechos reconocidos en el artículo 23, \\nsalvo lo que, atendiendo a criterios de reciprocidad, pueda establecerse por tratado o ley \\npara el derecho de sufragio activo y pasivo en las elecciones municipales.', metadata={'filename': '../data/Constitución Española/Constitución española 3-7.pdf', 'page': 2, 'source': '../data/Constitución Española/Constitución española 3-7.pdf'}),\n",
       " Document(page_content='podrán gozar del derecho de asilo en España.\\nCAPÍTULO SEGUNDO\\nDerechos y libertades\\nArtículo 14.  \\nLos españoles son iguales ante la ley, sin que pueda prevalecer discriminación alguna \\npor razón de nacimiento, raza, sexo, religión, opinión o cualquier otra condición o \\ncircunstancia personal o social.\\nSección 1.ª De los derechos fundamentales y de las libertades públicas\\nArtículo 15.', metadata={'filename': '../data/Constitución Española/Constitución española 3-7.pdf', 'page': 2, 'source': '../data/Constitución Española/Constitución española 3-7.pdf'})]"
      ]
     },
     "execution_count": 20,
     "metadata": {},
     "output_type": "execute_result"
    }
   ],
   "source": [
    "retriever.get_relevant_documents(\"How is the right to choose one's residence and to move freely within the national territory guaranteed in the Spanish Constitution?\")"
   ]
  },
  {
   "cell_type": "code",
   "execution_count": null,
   "metadata": {},
   "outputs": [],
   "source": []
  }
 ],
 "metadata": {
  "kernelspec": {
   "display_name": ".venv",
   "language": "python",
   "name": "python3"
  },
  "language_info": {
   "codemirror_mode": {
    "name": "ipython",
    "version": 3
   },
   "file_extension": ".py",
   "mimetype": "text/x-python",
   "name": "python",
   "nbconvert_exporter": "python",
   "pygments_lexer": "ipython3",
   "version": "3.11.8"
  }
 },
 "nbformat": 4,
 "nbformat_minor": 2
}
