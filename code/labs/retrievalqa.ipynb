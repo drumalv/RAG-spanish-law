{
 "cells": [
  {
   "cell_type": "code",
   "execution_count": 6,
   "metadata": {},
   "outputs": [
    {
     "data": {
      "text/plain": [
       "True"
      ]
     },
     "execution_count": 6,
     "metadata": {},
     "output_type": "execute_result"
    }
   ],
   "source": [
    "from dotenv import load_dotenv\n",
    "import os\n",
    "\n",
    "load_dotenv()"
   ]
  },
  {
   "cell_type": "code",
   "execution_count": 5,
   "metadata": {},
   "outputs": [],
   "source": [
    "from langchain.document_loaders import PyPDFLoader\n",
    "loader = PyPDFLoader(\"../data/Constitución Española/Constitución española 3-7.pdf\")\n",
    "documents = loader.load()\n",
    "for document in documents:\n",
    "    document.metadata['filename'] = document.metadata['source']\n",
    "\n",
    "from langchain_text_splitters import RecursiveCharacterTextSplitter\n",
    "\n",
    "text_splitter = RecursiveCharacterTextSplitter(\n",
    "    chunk_size=450,\n",
    "    chunk_overlap=100,\n",
    "    length_function=len,\n",
    "    is_separator_regex=False,\n",
    ")\n",
    "\n",
    "texts = text_splitter.split_documents(documents)"
   ]
  },
  {
   "cell_type": "code",
   "execution_count": 8,
   "metadata": {},
   "outputs": [],
   "source": [
    "from langchain.embeddings import AzureOpenAIEmbeddings\n",
    "from langchain.vectorstores import Chroma\n",
    "import os\n",
    "\n",
    "embedding_function = AzureOpenAIEmbeddings(\n",
    "    azure_deployment=os.environ[\"AZURE_ADA2_DEPLOYMENT\"],\n",
    "    openai_api_version=os.environ[\"OPENAI_API_VERSION\"],\n",
    ")\n",
    "\n",
    "# load docs into Chroma\n",
    "vector_db = Chroma.from_documents(texts, embedding_function, persist_directory='../vector_stores/chroma_openai_ada2')\n",
    "\n",
    "# Helpful to force a save\n",
    "vector_db.persist()\n",
    "\n",
    "# get db connection\n",
    "vector_db_connection = Chroma(persist_directory='../vector_stores/chroma_openai_ada2', embedding_function=embedding_function)"
   ]
  },
  {
   "cell_type": "code",
   "execution_count": 9,
   "metadata": {},
   "outputs": [],
   "source": [
    "retriever = vector_db_connection.as_retriever(search_kwargs={\"k\": 3})"
   ]
  },
  {
   "cell_type": "code",
   "execution_count": 11,
   "metadata": {},
   "outputs": [],
   "source": [
    "from langchain_openai import AzureChatOpenAI\n",
    "from langchain.chains import RetrievalQA\n",
    "\n",
    "# create a retrieval qa chain using llm\n",
    "llm = AzureChatOpenAI(\n",
    "    openai_api_version=os.environ[\"OPENAI_API_VERSION\"],\n",
    "    azure_deployment=os.environ[\"AZURE_GPT3TURBO_DEPLOYMENT\"],\n",
    ")\n",
    "qa = RetrievalQA.from_chain_type(llm=llm,\n",
    "                                 chain_type=\"stuff\",\n",
    "                                 retriever=retriever,\n",
    "                                 verbose=True)"
   ]
  },
  {
   "cell_type": "code",
   "execution_count": 13,
   "metadata": {},
   "outputs": [
    {
     "name": "stdout",
     "output_type": "stream",
     "text": [
      "\n",
      "\n",
      "\u001b[1m> Entering new RetrievalQA chain...\u001b[0m\n",
      "\n",
      "\u001b[1m> Finished chain.\u001b[0m\n"
     ]
    }
   ],
   "source": [
    "result = qa.invoke(\"How is the right to choose one's residence and to move freely within the national territory guaranteed in the Spanish Constitution?\")"
   ]
  },
  {
   "cell_type": "code",
   "execution_count": 20,
   "metadata": {},
   "outputs": [
    {
     "data": {
      "text/plain": [
       "[Document(page_content='y familiar de los ciudadanos y el pleno ejercicio de sus derechos.\\nArtículo 19.  \\nLos españoles tienen derecho a elegir libremente su residencia y a circular por el \\nterritorio nacional.\\nAsimismo, tienen derecho a entrar y salir libremente de España en los términos que la \\nley establezca. Este derecho no podrá ser limitado por motivos políticos o ideológicos.\\nArtículo 20.  \\n1. Se reconocen y protegen los derechos:', metadata={'filename': '../data/Constitución Española/Constitución española 3-7.pdf', 'page': 3, 'source': '../data/Constitución Española/Constitución española 3-7.pdf'}),\n",
       " Document(page_content='Artículo 13.  \\n1. Los extranjeros gozarán en España de las libertades públicas que garantiza el \\npresente Título en los términos que establezcan los tratados y la ley.\\n2. Solamente los españoles serán titulares de los derechos reconocidos en el artículo 23, \\nsalvo lo que, atendiendo a criterios de reciprocidad, pueda establecerse por tratado o ley \\npara el derecho de sufragio activo y pasivo en las elecciones municipales.', metadata={'filename': '../data/Constitución Española/Constitución española 3-7.pdf', 'page': 2, 'source': '../data/Constitución Española/Constitución española 3-7.pdf'}),\n",
       " Document(page_content='podrán gozar del derecho de asilo en España.\\nCAPÍTULO SEGUNDO\\nDerechos y libertades\\nArtículo 14.  \\nLos españoles son iguales ante la ley, sin que pueda prevalecer discriminación alguna \\npor razón de nacimiento, raza, sexo, religión, opinión o cualquier otra condición o \\ncircunstancia personal o social.\\nSección 1.ª De los derechos fundamentales y de las libertades públicas\\nArtículo 15.', metadata={'filename': '../data/Constitución Española/Constitución española 3-7.pdf', 'page': 2, 'source': '../data/Constitución Española/Constitución española 3-7.pdf'})]"
      ]
     },
     "execution_count": 20,
     "metadata": {},
     "output_type": "execute_result"
    }
   ],
   "source": [
    "retriever.get_relevant_documents(\"How is the right to choose one's residence and to move freely within the national territory guaranteed in the Spanish Constitution?\")"
   ]
  },
  {
   "cell_type": "code",
   "execution_count": null,
   "metadata": {},
   "outputs": [],
   "source": []
  }
 ],
 "metadata": {
  "kernelspec": {
   "display_name": ".venv",
   "language": "python",
   "name": "python3"
  },
  "language_info": {
   "codemirror_mode": {
    "name": "ipython",
    "version": 3
   },
   "file_extension": ".py",
   "mimetype": "text/x-python",
   "name": "python",
   "nbconvert_exporter": "python",
   "pygments_lexer": "ipython3",
   "version": "3.11.8"
  }
 },
 "nbformat": 4,
 "nbformat_minor": 2
}
